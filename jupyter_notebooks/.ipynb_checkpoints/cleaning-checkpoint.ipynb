{
 "cells": [
  {
   "cell_type": "code",
   "execution_count": 30,
   "metadata": {},
   "outputs": [],
   "source": [
    "import pandas as pd"
   ]
  },
  {
   "cell_type": "code",
   "execution_count": 31,
   "metadata": {},
   "outputs": [],
   "source": [
    "df1 = pd.read_csv('../data/15-16.csv')\n",
    "df2 = pd.read_csv('../data/16-17.csv')\n",
    "df3 = pd.read_csv('../data/17-18.csv')\n",
    "df4 = pd.read_csv('../data/18-19.csv')\n",
    "df5 = pd.read_csv('../data/19-20.csv')"
   ]
  },
  {
   "cell_type": "code",
   "execution_count": 46,
   "metadata": {},
   "outputs": [
    {
     "name": "stdout",
     "output_type": "stream",
     "text": [
      "Total number of rows = 1808\n"
     ]
    }
   ],
   "source": [
    "df_list = [df1, df2, df3, df4, df5]\n",
    "\n",
    "rows = 0\n",
    "for i in df_list:\n",
    "    rows += len(i)\n",
    "    \n",
    "print(\"Total number of rows = {}\".format(rows))"
   ]
  },
  {
   "cell_type": "code",
   "execution_count": 32,
   "metadata": {},
   "outputs": [
    {
     "name": "stdout",
     "output_type": "stream",
     "text": [
      "columns = Index(['Date', 'Team 1', 'FT', 'HT', 'Team 2'], dtype='object')\n",
      "columns = Index(['Date', 'Team 1', 'FT', 'HT', 'Team 2'], dtype='object')\n",
      "columns = Index(['Date', 'Team 1', 'FT', 'HT', 'Team 2'], dtype='object')\n",
      "columns = Index(['Date', 'Team 1', 'FT', 'HT', 'Team 2'], dtype='object')\n",
      "columns = Index(['Date', 'Team 1', 'FT', 'HT', 'Team 2'], dtype='object')\n"
     ]
    }
   ],
   "source": [
    "for i in df_list:\n",
    "    print(\"columns = {}\".format(i.columns))"
   ]
  },
  {
   "cell_type": "code",
   "execution_count": 33,
   "metadata": {},
   "outputs": [
    {
     "data": {
      "text/html": [
       "<div>\n",
       "<style scoped>\n",
       "    .dataframe tbody tr th:only-of-type {\n",
       "        vertical-align: middle;\n",
       "    }\n",
       "\n",
       "    .dataframe tbody tr th {\n",
       "        vertical-align: top;\n",
       "    }\n",
       "\n",
       "    .dataframe thead th {\n",
       "        text-align: right;\n",
       "    }\n",
       "</style>\n",
       "<table border=\"1\" class=\"dataframe\">\n",
       "  <thead>\n",
       "    <tr style=\"text-align: right;\">\n",
       "      <th></th>\n",
       "      <th>Date</th>\n",
       "      <th>Team 1</th>\n",
       "      <th>FT</th>\n",
       "      <th>HT</th>\n",
       "      <th>Team 2</th>\n",
       "    </tr>\n",
       "  </thead>\n",
       "  <tbody>\n",
       "    <tr>\n",
       "      <th>0</th>\n",
       "      <td>Sat Aug 8 2015</td>\n",
       "      <td>Bournemouth</td>\n",
       "      <td>0-1</td>\n",
       "      <td>0-0</td>\n",
       "      <td>Aston Villa</td>\n",
       "    </tr>\n",
       "    <tr>\n",
       "      <th>1</th>\n",
       "      <td>Sat Aug 8 2015</td>\n",
       "      <td>Chelsea</td>\n",
       "      <td>2-2</td>\n",
       "      <td>2-1</td>\n",
       "      <td>Swansea</td>\n",
       "    </tr>\n",
       "    <tr>\n",
       "      <th>2</th>\n",
       "      <td>Sat Aug 8 2015</td>\n",
       "      <td>Everton</td>\n",
       "      <td>2-2</td>\n",
       "      <td>0-1</td>\n",
       "      <td>Watford</td>\n",
       "    </tr>\n",
       "    <tr>\n",
       "      <th>3</th>\n",
       "      <td>Sat Aug 8 2015</td>\n",
       "      <td>Leicester</td>\n",
       "      <td>4-2</td>\n",
       "      <td>3-0</td>\n",
       "      <td>Sunderland</td>\n",
       "    </tr>\n",
       "    <tr>\n",
       "      <th>4</th>\n",
       "      <td>Sat Aug 8 2015</td>\n",
       "      <td>Man United</td>\n",
       "      <td>1-0</td>\n",
       "      <td>1-0</td>\n",
       "      <td>Tottenham</td>\n",
       "    </tr>\n",
       "  </tbody>\n",
       "</table>\n",
       "</div>"
      ],
      "text/plain": [
       "             Date       Team 1   FT   HT       Team 2\n",
       "0  Sat Aug 8 2015  Bournemouth  0-1  0-0  Aston Villa\n",
       "1  Sat Aug 8 2015      Chelsea  2-2  2-1      Swansea\n",
       "2  Sat Aug 8 2015      Everton  2-2  0-1      Watford\n",
       "3  Sat Aug 8 2015    Leicester  4-2  3-0   Sunderland\n",
       "4  Sat Aug 8 2015   Man United  1-0  1-0    Tottenham"
      ]
     },
     "execution_count": 33,
     "metadata": {},
     "output_type": "execute_result"
    }
   ],
   "source": [
    "df1.head()"
   ]
  },
  {
   "cell_type": "code",
   "execution_count": 34,
   "metadata": {},
   "outputs": [],
   "source": [
    "df_concat = pd.concat(df_list)"
   ]
  },
  {
   "cell_type": "code",
   "execution_count": 35,
   "metadata": {},
   "outputs": [
    {
     "data": {
      "text/html": [
       "<div>\n",
       "<style scoped>\n",
       "    .dataframe tbody tr th:only-of-type {\n",
       "        vertical-align: middle;\n",
       "    }\n",
       "\n",
       "    .dataframe tbody tr th {\n",
       "        vertical-align: top;\n",
       "    }\n",
       "\n",
       "    .dataframe thead th {\n",
       "        text-align: right;\n",
       "    }\n",
       "</style>\n",
       "<table border=\"1\" class=\"dataframe\">\n",
       "  <thead>\n",
       "    <tr style=\"text-align: right;\">\n",
       "      <th></th>\n",
       "      <th>Date</th>\n",
       "      <th>Team 1</th>\n",
       "      <th>FT</th>\n",
       "      <th>HT</th>\n",
       "      <th>Team 2</th>\n",
       "    </tr>\n",
       "  </thead>\n",
       "  <tbody>\n",
       "    <tr>\n",
       "      <th>0</th>\n",
       "      <td>Sat Aug 8 2015</td>\n",
       "      <td>Bournemouth</td>\n",
       "      <td>0-1</td>\n",
       "      <td>0-0</td>\n",
       "      <td>Aston Villa</td>\n",
       "    </tr>\n",
       "    <tr>\n",
       "      <th>1</th>\n",
       "      <td>Sat Aug 8 2015</td>\n",
       "      <td>Chelsea</td>\n",
       "      <td>2-2</td>\n",
       "      <td>2-1</td>\n",
       "      <td>Swansea</td>\n",
       "    </tr>\n",
       "    <tr>\n",
       "      <th>2</th>\n",
       "      <td>Sat Aug 8 2015</td>\n",
       "      <td>Everton</td>\n",
       "      <td>2-2</td>\n",
       "      <td>0-1</td>\n",
       "      <td>Watford</td>\n",
       "    </tr>\n",
       "    <tr>\n",
       "      <th>3</th>\n",
       "      <td>Sat Aug 8 2015</td>\n",
       "      <td>Leicester</td>\n",
       "      <td>4-2</td>\n",
       "      <td>3-0</td>\n",
       "      <td>Sunderland</td>\n",
       "    </tr>\n",
       "    <tr>\n",
       "      <th>4</th>\n",
       "      <td>Sat Aug 8 2015</td>\n",
       "      <td>Man United</td>\n",
       "      <td>1-0</td>\n",
       "      <td>1-0</td>\n",
       "      <td>Tottenham</td>\n",
       "    </tr>\n",
       "    <tr>\n",
       "      <th>...</th>\n",
       "      <td>...</td>\n",
       "      <td>...</td>\n",
       "      <td>...</td>\n",
       "      <td>...</td>\n",
       "      <td>...</td>\n",
       "    </tr>\n",
       "    <tr>\n",
       "      <th>283</th>\n",
       "      <td>Sat Mar 7 2020</td>\n",
       "      <td>Wolves</td>\n",
       "      <td>0-0</td>\n",
       "      <td>0-0</td>\n",
       "      <td>Brighton</td>\n",
       "    </tr>\n",
       "    <tr>\n",
       "      <th>284</th>\n",
       "      <td>Sat Mar 7 2020</td>\n",
       "      <td>Burnley</td>\n",
       "      <td>1-1</td>\n",
       "      <td>1-0</td>\n",
       "      <td>Tottenham</td>\n",
       "    </tr>\n",
       "    <tr>\n",
       "      <th>285</th>\n",
       "      <td>Sun Mar 8 2020</td>\n",
       "      <td>Chelsea</td>\n",
       "      <td>4-0</td>\n",
       "      <td>2-0</td>\n",
       "      <td>Everton</td>\n",
       "    </tr>\n",
       "    <tr>\n",
       "      <th>286</th>\n",
       "      <td>Sun Mar 8 2020</td>\n",
       "      <td>Man United</td>\n",
       "      <td>2-0</td>\n",
       "      <td>1-0</td>\n",
       "      <td>Man City</td>\n",
       "    </tr>\n",
       "    <tr>\n",
       "      <th>287</th>\n",
       "      <td>Mon Mar 9 2020</td>\n",
       "      <td>Leicester</td>\n",
       "      <td>4-0</td>\n",
       "      <td>1-0</td>\n",
       "      <td>Aston Villa</td>\n",
       "    </tr>\n",
       "  </tbody>\n",
       "</table>\n",
       "<p>1808 rows × 5 columns</p>\n",
       "</div>"
      ],
      "text/plain": [
       "               Date       Team 1   FT   HT       Team 2\n",
       "0    Sat Aug 8 2015  Bournemouth  0-1  0-0  Aston Villa\n",
       "1    Sat Aug 8 2015      Chelsea  2-2  2-1      Swansea\n",
       "2    Sat Aug 8 2015      Everton  2-2  0-1      Watford\n",
       "3    Sat Aug 8 2015    Leicester  4-2  3-0   Sunderland\n",
       "4    Sat Aug 8 2015   Man United  1-0  1-0    Tottenham\n",
       "..              ...          ...  ...  ...          ...\n",
       "283  Sat Mar 7 2020       Wolves  0-0  0-0     Brighton\n",
       "284  Sat Mar 7 2020      Burnley  1-1  1-0    Tottenham\n",
       "285  Sun Mar 8 2020      Chelsea  4-0  2-0      Everton\n",
       "286  Sun Mar 8 2020   Man United  2-0  1-0     Man City\n",
       "287  Mon Mar 9 2020    Leicester  4-0  1-0  Aston Villa\n",
       "\n",
       "[1808 rows x 5 columns]"
      ]
     },
     "execution_count": 35,
     "metadata": {},
     "output_type": "execute_result"
    }
   ],
   "source": [
    "df_concat"
   ]
  },
  {
   "cell_type": "code",
   "execution_count": 36,
   "metadata": {},
   "outputs": [],
   "source": [
    "df_concat = df_concat.rename(columns={'Date': 'date', 'Team 1': 'home_team', 'FT': 'ft_score', 'HT': 'ht_score', 'Team 2': 'away_team'})"
   ]
  },
  {
   "cell_type": "code",
   "execution_count": 37,
   "metadata": {},
   "outputs": [
    {
     "data": {
      "text/html": [
       "<div>\n",
       "<style scoped>\n",
       "    .dataframe tbody tr th:only-of-type {\n",
       "        vertical-align: middle;\n",
       "    }\n",
       "\n",
       "    .dataframe tbody tr th {\n",
       "        vertical-align: top;\n",
       "    }\n",
       "\n",
       "    .dataframe thead th {\n",
       "        text-align: right;\n",
       "    }\n",
       "</style>\n",
       "<table border=\"1\" class=\"dataframe\">\n",
       "  <thead>\n",
       "    <tr style=\"text-align: right;\">\n",
       "      <th></th>\n",
       "      <th>date</th>\n",
       "      <th>home_team</th>\n",
       "      <th>ft_score</th>\n",
       "      <th>ht_score</th>\n",
       "      <th>away_team</th>\n",
       "    </tr>\n",
       "  </thead>\n",
       "  <tbody>\n",
       "    <tr>\n",
       "      <th>0</th>\n",
       "      <td>Sat Aug 8 2015</td>\n",
       "      <td>Bournemouth</td>\n",
       "      <td>0-1</td>\n",
       "      <td>0-0</td>\n",
       "      <td>Aston Villa</td>\n",
       "    </tr>\n",
       "    <tr>\n",
       "      <th>1</th>\n",
       "      <td>Sat Aug 8 2015</td>\n",
       "      <td>Chelsea</td>\n",
       "      <td>2-2</td>\n",
       "      <td>2-1</td>\n",
       "      <td>Swansea</td>\n",
       "    </tr>\n",
       "    <tr>\n",
       "      <th>2</th>\n",
       "      <td>Sat Aug 8 2015</td>\n",
       "      <td>Everton</td>\n",
       "      <td>2-2</td>\n",
       "      <td>0-1</td>\n",
       "      <td>Watford</td>\n",
       "    </tr>\n",
       "    <tr>\n",
       "      <th>3</th>\n",
       "      <td>Sat Aug 8 2015</td>\n",
       "      <td>Leicester</td>\n",
       "      <td>4-2</td>\n",
       "      <td>3-0</td>\n",
       "      <td>Sunderland</td>\n",
       "    </tr>\n",
       "    <tr>\n",
       "      <th>4</th>\n",
       "      <td>Sat Aug 8 2015</td>\n",
       "      <td>Man United</td>\n",
       "      <td>1-0</td>\n",
       "      <td>1-0</td>\n",
       "      <td>Tottenham</td>\n",
       "    </tr>\n",
       "    <tr>\n",
       "      <th>...</th>\n",
       "      <td>...</td>\n",
       "      <td>...</td>\n",
       "      <td>...</td>\n",
       "      <td>...</td>\n",
       "      <td>...</td>\n",
       "    </tr>\n",
       "    <tr>\n",
       "      <th>283</th>\n",
       "      <td>Sat Mar 7 2020</td>\n",
       "      <td>Wolves</td>\n",
       "      <td>0-0</td>\n",
       "      <td>0-0</td>\n",
       "      <td>Brighton</td>\n",
       "    </tr>\n",
       "    <tr>\n",
       "      <th>284</th>\n",
       "      <td>Sat Mar 7 2020</td>\n",
       "      <td>Burnley</td>\n",
       "      <td>1-1</td>\n",
       "      <td>1-0</td>\n",
       "      <td>Tottenham</td>\n",
       "    </tr>\n",
       "    <tr>\n",
       "      <th>285</th>\n",
       "      <td>Sun Mar 8 2020</td>\n",
       "      <td>Chelsea</td>\n",
       "      <td>4-0</td>\n",
       "      <td>2-0</td>\n",
       "      <td>Everton</td>\n",
       "    </tr>\n",
       "    <tr>\n",
       "      <th>286</th>\n",
       "      <td>Sun Mar 8 2020</td>\n",
       "      <td>Man United</td>\n",
       "      <td>2-0</td>\n",
       "      <td>1-0</td>\n",
       "      <td>Man City</td>\n",
       "    </tr>\n",
       "    <tr>\n",
       "      <th>287</th>\n",
       "      <td>Mon Mar 9 2020</td>\n",
       "      <td>Leicester</td>\n",
       "      <td>4-0</td>\n",
       "      <td>1-0</td>\n",
       "      <td>Aston Villa</td>\n",
       "    </tr>\n",
       "  </tbody>\n",
       "</table>\n",
       "<p>1808 rows × 5 columns</p>\n",
       "</div>"
      ],
      "text/plain": [
       "               date    home_team ft_score ht_score    away_team\n",
       "0    Sat Aug 8 2015  Bournemouth      0-1      0-0  Aston Villa\n",
       "1    Sat Aug 8 2015      Chelsea      2-2      2-1      Swansea\n",
       "2    Sat Aug 8 2015      Everton      2-2      0-1      Watford\n",
       "3    Sat Aug 8 2015    Leicester      4-2      3-0   Sunderland\n",
       "4    Sat Aug 8 2015   Man United      1-0      1-0    Tottenham\n",
       "..              ...          ...      ...      ...          ...\n",
       "283  Sat Mar 7 2020       Wolves      0-0      0-0     Brighton\n",
       "284  Sat Mar 7 2020      Burnley      1-1      1-0    Tottenham\n",
       "285  Sun Mar 8 2020      Chelsea      4-0      2-0      Everton\n",
       "286  Sun Mar 8 2020   Man United      2-0      1-0     Man City\n",
       "287  Mon Mar 9 2020    Leicester      4-0      1-0  Aston Villa\n",
       "\n",
       "[1808 rows x 5 columns]"
      ]
     },
     "execution_count": 37,
     "metadata": {},
     "output_type": "execute_result"
    }
   ],
   "source": [
    "df_concat"
   ]
  },
  {
   "cell_type": "code",
   "execution_count": 38,
   "metadata": {},
   "outputs": [
    {
     "data": {
      "text/plain": [
       "date         0\n",
       "home_team    0\n",
       "ft_score     0\n",
       "ht_score     0\n",
       "away_team    0\n",
       "dtype: int64"
      ]
     },
     "execution_count": 38,
     "metadata": {},
     "output_type": "execute_result"
    }
   ],
   "source": [
    "df_concat.isnull().sum()"
   ]
  },
  {
   "cell_type": "code",
   "execution_count": 39,
   "metadata": {},
   "outputs": [
    {
     "data": {
      "text/plain": [
       "(1808, 5)"
      ]
     },
     "execution_count": 39,
     "metadata": {},
     "output_type": "execute_result"
    }
   ],
   "source": [
    "df_concat.shape"
   ]
  },
  {
   "cell_type": "code",
   "execution_count": 40,
   "metadata": {},
   "outputs": [],
   "source": [
    "df_concat.to_csv('../data/clean_data.csv', index=False)"
   ]
  },
  {
   "cell_type": "code",
   "execution_count": null,
   "metadata": {},
   "outputs": [],
   "source": []
  }
 ],
 "metadata": {
  "kernelspec": {
   "display_name": "Python 3",
   "language": "python",
   "name": "python3"
  },
  "language_info": {
   "codemirror_mode": {
    "name": "ipython",
    "version": 3
   },
   "file_extension": ".py",
   "mimetype": "text/x-python",
   "name": "python",
   "nbconvert_exporter": "python",
   "pygments_lexer": "ipython3",
   "version": "3.8.2"
  }
 },
 "nbformat": 4,
 "nbformat_minor": 4
}
